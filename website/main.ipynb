{
 "cells": [
  {
   "cell_type": "code",
   "execution_count": 17,
   "id": "8c33f440-9b7c-47ce-94c7-3c1ca4175c65",
   "metadata": {},
   "outputs": [
    {
     "name": "stdout",
     "output_type": "stream",
     "text": [
      " * Serving Flask app '__main__'\n",
      " * Debug mode: off\n"
     ]
    },
    {
     "name": "stderr",
     "output_type": "stream",
     "text": [
      "WARNING: This is a development server. Do not use it in a production deployment. Use a production WSGI server instead.\n",
      " * Running on all addresses (0.0.0.0)\n",
      " * Running on http://127.0.0.1:8080\n",
      " * Running on http://192.168.18.65:8080\n",
      "Press CTRL+C to quit\n",
      "192.168.18.65 - - [11/May/2024 11:47:02] \"GET / HTTP/1.1\" 200 -\n",
      "192.168.18.65 - - [11/May/2024 11:47:03] \"GET /static/style.css HTTP/1.1\" 304 -\n",
      "192.168.18.65 - - [11/May/2024 11:47:03] \"GET /static/images/spotify.jpg HTTP/1.1\" 304 -\n",
      "192.168.18.65 - - [11/May/2024 11:47:05] \"GET /signup HTTP/1.1\" 200 -\n",
      "192.168.18.65 - - [11/May/2024 11:47:05] \"GET /static/style.css HTTP/1.1\" 304 -\n",
      "192.168.18.65 - - [11/May/2024 11:47:26] \"POST /signup HTTP/1.1\" 200 -\n",
      "192.168.18.65 - - [11/May/2024 11:47:26] \"GET /static/style.css HTTP/1.1\" 304 -\n",
      "192.168.18.65 - - [11/May/2024 11:47:33] \"POST / HTTP/1.1\" 302 -\n",
      "192.168.18.65 - - [11/May/2024 11:47:34] \"GET /home HTTP/1.1\" 200 -\n",
      "192.168.18.65 - - [11/May/2024 11:47:34] \"GET /static/style.css HTTP/1.1\" 304 -\n",
      "192.168.18.65 - - [11/May/2024 11:47:46] \"POST / HTTP/1.1\" 400 -\n",
      "192.168.18.65 - - [11/May/2024 11:49:15] \"GET / HTTP/1.1\" 200 -\n",
      "192.168.18.65 - - [11/May/2024 11:49:15] \"GET /static/style.css HTTP/1.1\" 304 -\n",
      "192.168.18.65 - - [11/May/2024 11:49:15] \"GET /static/images/spotify.jpg HTTP/1.1\" 304 -\n",
      "192.168.18.65 - - [11/May/2024 11:49:16] \"GET /signup HTTP/1.1\" 200 -\n",
      "192.168.18.65 - - [11/May/2024 11:49:16] \"GET /static/style.css HTTP/1.1\" 304 -\n",
      "192.168.18.65 - - [11/May/2024 11:49:25] \"POST /signup HTTP/1.1\" 200 -\n",
      "192.168.18.65 - - [11/May/2024 11:49:25] \"GET /static/style.css HTTP/1.1\" 304 -\n",
      "192.168.18.65 - - [11/May/2024 11:49:33] \"POST / HTTP/1.1\" 302 -\n",
      "192.168.18.65 - - [11/May/2024 11:49:33] \"GET /home HTTP/1.1\" 200 -\n",
      "192.168.18.65 - - [11/May/2024 11:49:33] \"GET /static/style.css HTTP/1.1\" 304 -\n",
      "192.168.18.65 - - [11/May/2024 11:49:57] \"POST / HTTP/1.1\" 400 -\n"
     ]
    }
   ],
   "source": [
    "from flask import Flask, session, render_template, redirect, url_for, request, flash\n",
    "from pymongo import MongoClient\n",
    "\n",
    "app = Flask(__name__)\n",
    "app.secret_key = \"CHANGE ME\"\n",
    "\n",
    "# MongoDB connection settings\n",
    "mongo_client = MongoClient('mongodb://localhost:27017')\n",
    "db = mongo_client['music_features']  # Replace 'your_database' with your actual database name\n",
    "music_collection = db['audio_features']  # Replace 'music_files' with your actual collection name\n",
    "\n",
    "# Dictionary to store username-password pairs\n",
    "user_credentials = {}\n",
    "\n",
    "@app.route('/', methods=['GET', 'POST'])\n",
    "def login():\n",
    "    session.clear()\n",
    "\n",
    "    if request.method == \"POST\":\n",
    "        uname = request.form[\"username\"]\n",
    "        password = request.form[\"password\"]\n",
    "\n",
    "        # Check if username exists and passwords match\n",
    "        if uname in user_credentials and user_credentials[uname] == password:\n",
    "            session['username'] = uname\n",
    "            return redirect(url_for(\"home\"))\n",
    "        else:\n",
    "            flash(\"Incorrect username or password\")\n",
    "            return render_template(\"login.html\")\n",
    "\n",
    "    return render_template(\"login.html\")\n",
    "\n",
    "@app.route('/signup', methods=['GET', 'POST'])\n",
    "def signup():\n",
    "    if request.method == 'POST':\n",
    "        uname = request.form[\"username\"]\n",
    "        password = request.form[\"password\"]\n",
    "\n",
    "        # Check if username already exists\n",
    "        if uname in user_credentials:\n",
    "            flash(\"Username already exists\")\n",
    "        else:\n",
    "            # Store new username-password pair\n",
    "            user_credentials[uname] = password\n",
    "            flash(\"Sign up successful! Please login.\")\n",
    "        return render_template(\"login.html\")\n",
    "\n",
    "    return render_template(\"signup.html\")\n",
    "\n",
    "@app.route('/home', methods=['GET', 'POST'])\n",
    "def home():\n",
    "    if 'username' in session:\n",
    "        # Retrieve music files from MongoDB\n",
    "        music_files = [file['filename'] for file in music_collection.find({}, {'filename': 1})]\n",
    "        if request.method == 'POST':\n",
    "            selected_music = request.form.get('selected_music')\n",
    "            # Placeholder logic for recommendations based on selected music\n",
    "            recommendations = []  # Replace this with actual recommendations based on ML model\n",
    "            return render_template(\"home2.html\", username=session['username'], selected_music=selected_music, recommendations=recommendations)\n",
    "        return render_template(\"home.html\", username=session['username'], music_files=music_files)\n",
    "    else:\n",
    "        return redirect(url_for('login'))\n",
    "\n",
    "if __name__ == \"__main__\":\n",
    "    app.run(host='0.0.0.0', port=8080)\n"
   ]
  },
  {
   "cell_type": "code",
   "execution_count": null,
   "id": "6a29ffaa-6a5c-4d57-9f9b-5d70ac25f21a",
   "metadata": {},
   "outputs": [],
   "source": []
  }
 ],
 "metadata": {
  "kernelspec": {
   "display_name": "Python 3 (ipykernel)",
   "language": "python",
   "name": "python3"
  },
  "language_info": {
   "codemirror_mode": {
    "name": "ipython",
    "version": 3
   },
   "file_extension": ".py",
   "mimetype": "text/x-python",
   "name": "python",
   "nbconvert_exporter": "python",
   "pygments_lexer": "ipython3",
   "version": "3.11.7"
  }
 },
 "nbformat": 4,
 "nbformat_minor": 5
}
